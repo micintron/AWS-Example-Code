{
 "cells": [
  {
   "cell_type": "markdown",
   "metadata": {},
   "source": [
    "# Integrated Test\n",
    "In this test, we'll use a SageMaker Estimator (https://sagemaker.readthedocs.io/en/stable/estimators.html) to encapsulate the docker image published to ECR and start a **local** test, but this time, using the SageMaker library."
   ]
  },
  {
   "cell_type": "code",
   "execution_count": 1,
   "metadata": {},
   "outputs": [],
   "source": [
    "import sagemaker\n",
    "import json\n",
    "from sagemaker import get_execution_role\n",
    "\n",
    "role = get_execution_role()\n",
    "sagemaker_session = sagemaker.Session()\n",
    "bucket = sagemaker_session.default_bucket()\n",
    "prefix='mlops/iris'"
   ]
  },
  {
   "cell_type": "markdown",
   "metadata": {},
   "source": [
    "## Upload the dataset\n",
    "In the previous exercise, prepared the training and validation dataset. Now, we'll upload the CSVs to S3 and share them with an Estimator"
   ]
  },
  {
   "cell_type": "code",
   "execution_count": 2,
   "metadata": {},
   "outputs": [
    {
     "name": "stdout",
     "output_type": "stream",
     "text": [
      "Training: s3://sagemaker-us-east-1-735563655035/iris-model/input/training\n",
      "Testing: s3://sagemaker-us-east-1-735563655035/iris-model/input/testing\n"
     ]
    }
   ],
   "source": [
    "train_path = sagemaker_session.upload_data(path='input/data/training', key_prefix='iris-model/input/training')\n",
    "test_path = sagemaker_session.upload_data(path='input/data/testing', key_prefix='iris-model/input/testing')\n",
    "print(\"Training: %s\\nTesting: %s\" % (train_path, test_path) )"
   ]
  },
  {
   "cell_type": "markdown",
   "metadata": {},
   "source": [
    "## And now, we can use a SageMaker Estimator for training and deploying the container we've created"
   ]
  },
  {
   "cell_type": "code",
   "execution_count": 3,
   "metadata": {},
   "outputs": [
    {
     "name": "stderr",
     "output_type": "stream",
     "text": [
      "WARNING:root:Parameter image_name will be renamed to image_uri in SageMaker Python SDK v2.\n"
     ]
    },
    {
     "name": "stdout",
     "output_type": "stream",
     "text": [
      "{'max_depth': 20, 'n_jobs': 4, 'n_estimators': 120}\n"
     ]
    }
   ],
   "source": [
    "# Create the estimator\n",
    "# iris-model:test is the name of the container created in the previous notebook\n",
    "# By the local codebuild test. An image with that name:tag was pushed to the ECR.\n",
    "iris = sagemaker.estimator.Estimator('iris-model:test',\n",
    "                                    role,\n",
    "                                    train_instance_count=1, \n",
    "                                    train_instance_type='local',\n",
    "                                    output_path='s3://{}/{}/output'.format(bucket, prefix))\n",
    "hyperparameters = {\n",
    "    'max_depth': 20,\n",
    "    'n_jobs': 4,\n",
    "    'n_estimators': 120\n",
    "}\n",
    "\n",
    "print(hyperparameters)\n",
    "iris.set_hyperparameters(**hyperparameters)"
   ]
  },
  {
   "cell_type": "markdown",
   "metadata": {},
   "source": [
    "After you call .fit, a new training job will be executed inside the *local Docker daemon* and not in the SageMaker environment, on the cloud"
   ]
  },
  {
   "cell_type": "code",
   "execution_count": 4,
   "metadata": {},
   "outputs": [
    {
     "name": "stderr",
     "output_type": "stream",
     "text": [
      "WARNING:sagemaker:'s3_input' class will be renamed to 'TrainingInput' in SageMaker Python SDK v2.\n",
      "WARNING:sagemaker:'s3_input' class will be renamed to 'TrainingInput' in SageMaker Python SDK v2.\n"
     ]
    },
    {
     "name": "stdout",
     "output_type": "stream",
     "text": [
      "Creating tmpjzlp1r0x_algo-1-5ds78_1 ... \n",
      "\u001b[1BAttaching to tmpjzlp1r0x_algo-1-5ds78_12mdone\u001b[0m\n",
      "\u001b[36malgo-1-5ds78_1  |\u001b[0m done\n",
      "\u001b[36malgo-1-5ds78_1  |\u001b[0m Training mode\n",
      "\u001b[36malgo-1-5ds78_1  |\u001b[0m Training the classifier\n",
      "\u001b[36malgo-1-5ds78_1  |\u001b[0m [Parallel(n_jobs=4)]: Using backend ThreadingBackend with 4 concurrent workers.\n",
      "\u001b[36malgo-1-5ds78_1  |\u001b[0m [Parallel(n_jobs=4)]: Done  42 tasks      | elapsed:    0.1s\n",
      "\u001b[36malgo-1-5ds78_1  |\u001b[0m [Parallel(n_jobs=4)]: Done 120 out of 120 | elapsed:    0.2s finished\n",
      "\u001b[36malgo-1-5ds78_1  |\u001b[0m [Parallel(n_jobs=4)]: Using backend ThreadingBackend with 4 concurrent workers.\n",
      "\u001b[36malgo-1-5ds78_1  |\u001b[0m [Parallel(n_jobs=4)]: Done  42 tasks      | elapsed:    0.0s\n",
      "\u001b[36malgo-1-5ds78_1  |\u001b[0m [Parallel(n_jobs=4)]: Done 120 out of 120 | elapsed:    0.0s finished\n",
      "\u001b[36malgo-1-5ds78_1  |\u001b[0m Score: 0.98\n",
      "\u001b[36malgo-1-5ds78_1  |\u001b[0m done\n",
      "\u001b[36mtmpjzlp1r0x_algo-1-5ds78_1 exited with code 0\n",
      "\u001b[0mAborting on container exit...\n",
      "===== Job Complete =====\n"
     ]
    }
   ],
   "source": [
    "iris.fit({'training': train_path, 'testing': test_path })"
   ]
  },
  {
   "cell_type": "markdown",
   "metadata": {},
   "source": [
    "The next command will launch a new container in your local Docker daemon. Then you can use the returned predictor for testing it"
   ]
  },
  {
   "cell_type": "code",
   "execution_count": 5,
   "metadata": {},
   "outputs": [
    {
     "name": "stderr",
     "output_type": "stream",
     "text": [
      "WARNING:sagemaker:Parameter image will be renamed to image_uri in SageMaker Python SDK v2.\n",
      "WARNING:urllib3.connectionpool:Retrying (Retry(total=2, connect=None, read=None, redirect=None, status=None)) after connection broken by 'NewConnectionError('<urllib3.connection.HTTPConnection object at 0x7fb0180226d8>: Failed to establish a new connection: [Errno 111] Connection refused',)': /ping\n",
      "WARNING:urllib3.connectionpool:Retrying (Retry(total=1, connect=None, read=None, redirect=None, status=None)) after connection broken by 'NewConnectionError('<urllib3.connection.HTTPConnection object at 0x7fb018022278>: Failed to establish a new connection: [Errno 111] Connection refused',)': /ping\n",
      "WARNING:urllib3.connectionpool:Retrying (Retry(total=0, connect=None, read=None, redirect=None, status=None)) after connection broken by 'NewConnectionError('<urllib3.connection.HTTPConnection object at 0x7fb018022780>: Failed to establish a new connection: [Errno 111] Connection refused',)': /ping\n"
     ]
    },
    {
     "name": "stdout",
     "output_type": "stream",
     "text": [
      "Attaching to tmpahaag3j__algo-1-f9uxe_1\n",
      "\u001b[36malgo-1-f9uxe_1  |\u001b[0m done\n",
      "\u001b[36malgo-1-f9uxe_1  |\u001b[0m Warning: Calling MMS with mxnet-model-server. Please move to multi-model-server.\n",
      "\u001b[36malgo-1-f9uxe_1  |\u001b[0m 2020-06-24 12:50:58,286 [INFO ] main com.amazonaws.ml.mms.ModelServer - \n",
      "\u001b[36malgo-1-f9uxe_1  |\u001b[0m MMS Home: /usr/local/lib/python3.7/site-packages\n",
      "\u001b[36malgo-1-f9uxe_1  |\u001b[0m Current directory: /\n",
      "\u001b[36malgo-1-f9uxe_1  |\u001b[0m Temp directory: /tmp\n",
      "\u001b[36malgo-1-f9uxe_1  |\u001b[0m Number of GPUs: 0\n",
      "\u001b[36malgo-1-f9uxe_1  |\u001b[0m Number of CPUs: 4\n",
      "\u001b[36malgo-1-f9uxe_1  |\u001b[0m Max heap size: 4012 M\n",
      "\u001b[36malgo-1-f9uxe_1  |\u001b[0m Python executable: /usr/local/bin/python\n",
      "\u001b[36malgo-1-f9uxe_1  |\u001b[0m Config file: /etc/sagemaker-mms.properties\n",
      "\u001b[36malgo-1-f9uxe_1  |\u001b[0m Inference address: http://0.0.0.0:8080\n",
      "\u001b[36malgo-1-f9uxe_1  |\u001b[0m Management address: http://0.0.0.0:8080\n",
      "\u001b[36malgo-1-f9uxe_1  |\u001b[0m Model Store: /.sagemaker/mms/models\n",
      "\u001b[36malgo-1-f9uxe_1  |\u001b[0m Initial Models: ALL\n",
      "\u001b[36malgo-1-f9uxe_1  |\u001b[0m Log dir: /logs\n",
      "\u001b[36malgo-1-f9uxe_1  |\u001b[0m Metrics dir: /logs\n",
      "\u001b[36malgo-1-f9uxe_1  |\u001b[0m Netty threads: 0\n",
      "\u001b[36malgo-1-f9uxe_1  |\u001b[0m Netty client threads: 0\n",
      "\u001b[36malgo-1-f9uxe_1  |\u001b[0m Default workers per model: 4\n",
      "\u001b[36malgo-1-f9uxe_1  |\u001b[0m Blacklist Regex: N/A\n",
      "\u001b[36malgo-1-f9uxe_1  |\u001b[0m Maximum Response Size: 6553500\n",
      "\u001b[36malgo-1-f9uxe_1  |\u001b[0m Maximum Request Size: 6553500\n",
      "\u001b[36malgo-1-f9uxe_1  |\u001b[0m Preload model: false\n",
      "\u001b[36malgo-1-f9uxe_1  |\u001b[0m Prefer direct buffer: false\n",
      "\u001b[36malgo-1-f9uxe_1  |\u001b[0m 2020-06-24 12:50:58,364 [WARN ] W-9000-model com.amazonaws.ml.mms.wlm.WorkerLifeCycle - attachIOStreams() threadName=W-9000-model\n",
      "\u001b[36malgo-1-f9uxe_1  |\u001b[0m 2020-06-24 12:50:58,456 [INFO ] W-9000-model-stdout com.amazonaws.ml.mms.wlm.WorkerLifeCycle - model_service_worker started with args: --sock-type unix --sock-name /tmp/.mms.sock.9000 --handler serving.handler --model-path /.sagemaker/mms/models/model --model-name model --preload-model false --tmp-dir /tmp\n",
      "\u001b[36malgo-1-f9uxe_1  |\u001b[0m 2020-06-24 12:50:58,458 [INFO ] W-9000-model-stdout com.amazonaws.ml.mms.wlm.WorkerLifeCycle - Listening on port: /tmp/.mms.sock.9000\n",
      "\u001b[36malgo-1-f9uxe_1  |\u001b[0m 2020-06-24 12:50:58,458 [INFO ] W-9000-model-stdout com.amazonaws.ml.mms.wlm.WorkerLifeCycle - [PID] 33\n",
      "\u001b[36malgo-1-f9uxe_1  |\u001b[0m 2020-06-24 12:50:58,458 [INFO ] W-9000-model-stdout com.amazonaws.ml.mms.wlm.WorkerLifeCycle - MXNet worker started.\n",
      "\u001b[36malgo-1-f9uxe_1  |\u001b[0m 2020-06-24 12:50:58,459 [INFO ] W-9000-model-stdout com.amazonaws.ml.mms.wlm.WorkerLifeCycle - Python runtime: 3.7.7\n",
      "\u001b[36malgo-1-f9uxe_1  |\u001b[0m 2020-06-24 12:50:58,460 [INFO ] main com.amazonaws.ml.mms.wlm.ModelManager - Model model loaded.\n",
      "\u001b[36malgo-1-f9uxe_1  |\u001b[0m 2020-06-24 12:50:58,479 [INFO ] main com.amazonaws.ml.mms.ModelServer - Initialize Inference server with: EpollServerSocketChannel.\n",
      "\u001b[36malgo-1-f9uxe_1  |\u001b[0m 2020-06-24 12:50:58,485 [INFO ] W-9000-model com.amazonaws.ml.mms.wlm.WorkerThread - Connecting to: /tmp/.mms.sock.9000\n",
      "\u001b[36malgo-1-f9uxe_1  |\u001b[0m 2020-06-24 12:50:58,488 [INFO ] W-9000-model com.amazonaws.ml.mms.wlm.WorkerThread - Connecting to: /tmp/.mms.sock.9000\n",
      "\u001b[36malgo-1-f9uxe_1  |\u001b[0m 2020-06-24 12:50:58,488 [INFO ] W-9000-model com.amazonaws.ml.mms.wlm.WorkerThread - Connecting to: /tmp/.mms.sock.9000\n",
      "\u001b[36malgo-1-f9uxe_1  |\u001b[0m 2020-06-24 12:50:58,485 [INFO ] W-9000-model com.amazonaws.ml.mms.wlm.WorkerThread - Connecting to: /tmp/.mms.sock.9000\n",
      "\u001b[36malgo-1-f9uxe_1  |\u001b[0m 2020-06-24 12:50:58,580 [INFO ] main com.amazonaws.ml.mms.ModelServer - Inference API bind to: http://0.0.0.0:8080\n",
      "\u001b[36malgo-1-f9uxe_1  |\u001b[0m Model server started.\n",
      "\u001b[36malgo-1-f9uxe_1  |\u001b[0m 2020-06-24 12:50:58,593 [INFO ] W-9000-model-stdout com.amazonaws.ml.mms.wlm.WorkerLifeCycle - Connection accepted: /tmp/.mms.sock.9000.\n",
      "\u001b[36malgo-1-f9uxe_1  |\u001b[0m 2020-06-24 12:50:58,593 [INFO ] W-9000-model-stdout com.amazonaws.ml.mms.wlm.WorkerLifeCycle - Connection accepted: /tmp/.mms.sock.9000.\n",
      "\u001b[36malgo-1-f9uxe_1  |\u001b[0m 2020-06-24 12:50:58,594 [INFO ] W-9000-model-stdout com.amazonaws.ml.mms.wlm.WorkerLifeCycle - Connection accepted: /tmp/.mms.sock.9000.\n",
      "\u001b[36malgo-1-f9uxe_1  |\u001b[0m 2020-06-24 12:50:58,594 [INFO ] W-9000-model-stdout com.amazonaws.ml.mms.wlm.WorkerLifeCycle - Connection accepted: /tmp/.mms.sock.9000.\n",
      "\u001b[36malgo-1-f9uxe_1  |\u001b[0m 2020-06-24 12:50:58,604 [WARN ] pool-2-thread-1 com.amazonaws.ml.mms.metrics.MetricCollector - worker pid is not available yet.\n",
      "\u001b[36malgo-1-f9uxe_1  |\u001b[0m 2020-06-24 12:50:59,561 [INFO ] W-9000-model com.amazonaws.ml.mms.wlm.WorkerThread - Backend response time: 886\n",
      "\u001b[36malgo-1-f9uxe_1  |\u001b[0m 2020-06-24 12:50:59,562 [INFO ] W-9000-model-stdout com.amazonaws.ml.mms.wlm.WorkerLifeCycle - Model model loaded io_fd=0242acfffe120002-0000000e-00000004-92ed0e505ce3a555-846f6680\n",
      "\u001b[36malgo-1-f9uxe_1  |\u001b[0m 2020-06-24 12:50:59,562 [INFO ] W-9000-model-stdout com.amazonaws.ml.mms.wlm.WorkerLifeCycle - Model model loaded io_fd=0242acfffe120002-0000000e-00000002-4475f6505ce3a555-34cc0c96\n",
      "\u001b[36malgo-1-f9uxe_1  |\u001b[0m 2020-06-24 12:50:59,563 [INFO ] W-9000-model com.amazonaws.ml.mms.wlm.WorkerThread - Backend response time: 863\n",
      "\u001b[36malgo-1-f9uxe_1  |\u001b[0m 2020-06-24 12:50:59,565 [WARN ] W-9000-model com.amazonaws.ml.mms.wlm.WorkerLifeCycle - attachIOStreams() threadName=W-model-4\n",
      "\u001b[36malgo-1-f9uxe_1  |\u001b[0m 2020-06-24 12:50:59,566 [INFO ] W-9000-model-stdout com.amazonaws.ml.mms.wlm.WorkerLifeCycle - Model model loaded io_fd=0242acfffe120002-0000000e-00000001-e2f2f6505ce3a555-66707d9b\n",
      "\u001b[36malgo-1-f9uxe_1  |\u001b[0m 2020-06-24 12:50:59,567 [INFO ] W-9000-model com.amazonaws.ml.mms.wlm.WorkerThread - Backend response time: 894\n",
      "\u001b[36malgo-1-f9uxe_1  |\u001b[0m 2020-06-24 12:50:59,569 [WARN ] W-9000-model com.amazonaws.ml.mms.wlm.WorkerLifeCycle - attachIOStreams() threadName=W-model-1\n",
      "\u001b[36malgo-1-f9uxe_1  |\u001b[0m 2020-06-24 12:50:59,569 [INFO ] W-9000-model-stdout com.amazonaws.ml.mms.wlm.WorkerLifeCycle - Model model loaded io_fd=0242acfffe120002-0000000e-00000003-0a37f6505ce3a555-8bb5a2e4\n",
      "\u001b[36malgo-1-f9uxe_1  |\u001b[0m 2020-06-24 12:50:59,570 [INFO ] W-9000-model com.amazonaws.ml.mms.wlm.WorkerThread - Backend response time: 901\n",
      "\u001b[36malgo-1-f9uxe_1  |\u001b[0m 2020-06-24 12:50:59,569 [WARN ] W-9000-model com.amazonaws.ml.mms.wlm.WorkerLifeCycle - attachIOStreams() threadName=W-model-2\n",
      "\u001b[36malgo-1-f9uxe_1  |\u001b[0m 2020-06-24 12:50:59,573 [WARN ] W-9000-model com.amazonaws.ml.mms.wlm.WorkerLifeCycle - attachIOStreams() threadName=W-model-3\n",
      "\u001b[36malgo-1-f9uxe_1  |\u001b[0m 2020-06-24 12:51:00,379 [INFO ] pool-1-thread-6 ACCESS_LOG - /172.18.0.1:42366 \"GET /ping HTTP/1.1\" 200 17\n",
      "!"
     ]
    }
   ],
   "source": [
    "iris_predictor = iris.deploy(initial_instance_count=1, instance_type='local')"
   ]
  },
  {
   "cell_type": "markdown",
   "metadata": {},
   "source": [
    "Now, let's use the predictor (https://sagemaker.readthedocs.io/en/stable/predictors.html) for some tests."
   ]
  },
  {
   "cell_type": "code",
   "execution_count": 6,
   "metadata": {},
   "outputs": [
    {
     "name": "stdout",
     "output_type": "stream",
     "text": [
      "\u001b[36malgo-1-f9uxe_1  |\u001b[0m 2020-06-24 12:53:44,598 [WARN ] W-model-4-stderr com.amazonaws.ml.mms.wlm.WorkerLifeCycle - [Parallel(n_jobs=4)]: Using backend ThreadingBackend with 4 concurrent workers.\n",
      "\u001b[36malgo-1-f9uxe_1  |\u001b[0m 2020-06-24 12:53:44,609 [WARN ] W-model-4-stderr com.amazonaws.ml.mms.wlm.WorkerLifeCycle - [Parallel(n_jobs=4)]: Done  42 tasks      | elapsed:    0.0s\n",
      "\u001b[36malgo-1-f9uxe_1  |\u001b[0m 2020-06-24 12:53:44,622 [WARN ] W-model-4-stderr com.amazonaws.ml.mms.wlm.WorkerLifeCycle - [Parallel(n_jobs=4)]: Done 120 out of 120 | elapsed:    0.0s finished\n",
      "\u001b[36malgo-1-f9uxe_1  |\u001b[0m 2020-06-24 12:53:44,703 [INFO ] W-9000-model com.amazonaws.ml.mms.wlm.WorkerThread - Backend response time: 106\n",
      "\u001b[36malgo-1-f9uxe_1  |\u001b[0m 2020-06-24 12:53:44,703 [INFO ] W-9000-model ACCESS_LOG - /172.18.0.1:42382 \"POST /invocations HTTP/1.1\" 200 109\n",
      "RESULT: 0.0 == 0.0 ? True\n",
      "\u001b[36malgo-1-f9uxe_1  |\u001b[0m 2020-06-24 12:53:44,709 [WARN ] W-model-2-stderr com.amazonaws.ml.mms.wlm.WorkerLifeCycle - [Parallel(n_jobs=4)]: Using backend ThreadingBackend with 4 concurrent workers.\n",
      "\u001b[36malgo-1-f9uxe_1  |\u001b[0m 2020-06-24 12:53:44,720 [WARN ] W-model-2-stderr com.amazonaws.ml.mms.wlm.WorkerLifeCycle - [Parallel(n_jobs=4)]: Done  42 tasks      | elapsed:    0.0s\n",
      "\u001b[36malgo-1-f9uxe_1  |\u001b[0m 2020-06-24 12:53:44,733 [WARN ] W-model-2-stderr com.amazonaws.ml.mms.wlm.WorkerLifeCycle - [Parallel(n_jobs=4)]: Done 120 out of 120 | elapsed:    0.0s finished\n",
      "\u001b[36malgo-1-f9uxe_1  |\u001b[0m 2020-06-24 12:53:44,813 [INFO ] W-9000-model com.amazonaws.ml.mms.wlm.WorkerThread - Backend response time: 105\n",
      "RESULT: 0.0 == 0.0 ? True\n",
      "\u001b[36malgo-1-f9uxe_1  |\u001b[0m 2020-06-24 12:53:44,813 [INFO ] W-9000-model ACCESS_LOG - /172.18.0.1:42382 \"POST /invocations HTTP/1.1\" 200 106\n",
      "\u001b[36malgo-1-f9uxe_1  |\u001b[0m 2020-06-24 12:53:44,818 [WARN ] W-model-1-stderr com.amazonaws.ml.mms.wlm.WorkerLifeCycle - [Parallel(n_jobs=4)]: Using backend ThreadingBackend with 4 concurrent workers.\n",
      "\u001b[36malgo-1-f9uxe_1  |\u001b[0m 2020-06-24 12:53:44,830 [WARN ] W-model-1-stderr com.amazonaws.ml.mms.wlm.WorkerLifeCycle - [Parallel(n_jobs=4)]: Done  42 tasks      | elapsed:    0.0s\n",
      "\u001b[36malgo-1-f9uxe_1  |\u001b[0m 2020-06-24 12:53:44,842 [WARN ] W-model-1-stderr com.amazonaws.ml.mms.wlm.WorkerLifeCycle - [Parallel(n_jobs=4)]: Done 120 out of 120 | elapsed:    0.0s finished\n",
      "\u001b[36malgo-1-f9uxe_1  |\u001b[0m 2020-06-24 12:53:44,922 [INFO ] W-9000-model com.amazonaws.ml.mms.wlm.WorkerThread - Backend response time: 105\n",
      "\u001b[36malgo-1-f9uxe_1  |\u001b[0m 2020-06-24 12:53:44,923 [INFO ] W-9000-model ACCESS_LOG - /172.18.0.1:42382 \"POST /invocations HTTP/1.1\" 200 107\n",
      "RESULT: 2.0 == 2.0 ? True\n",
      "\u001b[36malgo-1-f9uxe_1  |\u001b[0m 2020-06-24 12:53:44,927 [WARN ] W-model-3-stderr com.amazonaws.ml.mms.wlm.WorkerLifeCycle - [Parallel(n_jobs=4)]: Using backend ThreadingBackend with 4 concurrent workers.\n",
      "\u001b[36malgo-1-f9uxe_1  |\u001b[0m 2020-06-24 12:53:44,939 [WARN ] W-model-3-stderr com.amazonaws.ml.mms.wlm.WorkerLifeCycle - [Parallel(n_jobs=4)]: Done  42 tasks      | elapsed:    0.0s\n",
      "\u001b[36malgo-1-f9uxe_1  |\u001b[0m 2020-06-24 12:53:44,951 [WARN ] W-model-3-stderr com.amazonaws.ml.mms.wlm.WorkerLifeCycle - [Parallel(n_jobs=4)]: Done 120 out of 120 | elapsed:    0.0s finished\n",
      "\u001b[36malgo-1-f9uxe_1  |\u001b[0m 2020-06-24 12:53:45,031 [INFO ] W-9000-model com.amazonaws.ml.mms.wlm.WorkerThread - Backend response time: 105\n",
      "RESULT: 1.0 == 1.0 ? True\n",
      "\u001b[36malgo-1-f9uxe_1  |\u001b[0m 2020-06-24 12:53:45,032 [INFO ] W-9000-model ACCESS_LOG - /172.18.0.1:42382 \"POST /invocations HTTP/1.1\" 200 107\n",
      "\u001b[36malgo-1-f9uxe_1  |\u001b[0m 2020-06-24 12:53:45,037 [WARN ] W-model-4-stderr com.amazonaws.ml.mms.wlm.WorkerLifeCycle - [Parallel(n_jobs=4)]: Using backend ThreadingBackend with 4 concurrent workers.\n",
      "\u001b[36malgo-1-f9uxe_1  |\u001b[0m 2020-06-24 12:53:45,047 [WARN ] W-model-4-stderr com.amazonaws.ml.mms.wlm.WorkerLifeCycle - [Parallel(n_jobs=4)]: Done  42 tasks      | elapsed:    0.0s\n",
      "\u001b[36malgo-1-f9uxe_1  |\u001b[0m 2020-06-24 12:53:45,060 [WARN ] W-model-4-stderr com.amazonaws.ml.mms.wlm.WorkerLifeCycle - [Parallel(n_jobs=4)]: Done 120 out of 120 | elapsed:    0.0s finished\n",
      "\u001b[36malgo-1-f9uxe_1  |\u001b[0m 2020-06-24 12:53:45,139 [INFO ] W-9000-model com.amazonaws.ml.mms.wlm.WorkerThread - Backend response time: 103\n",
      "RESULT: 0.0 == 0.0 ? True\u001b[36malgo-1-f9uxe_1  |\u001b[0m 2020-06-24 12:53:45,140 [INFO ] W-9000-model ACCESS_LOG - /172.18.0.1:42382 \"POST /invocations HTTP/1.1\" 200 105\n",
      "\n"
     ]
    }
   ],
   "source": [
    "import pandas as pd\n",
    "import random\n",
    "from sagemaker.predictor import csv_serializer, csv_deserializer\n",
    "\n",
    "# configure the predictor to do everything for us\n",
    "iris_predictor.content_type = 'text/csv'\n",
    "iris_predictor.accept = 'text/csv'\n",
    "iris_predictor.serializer = csv_serializer\n",
    "iris_predictor.deserializer = None\n",
    "\n",
    "# load the testing data from the validation csv\n",
    "validation = pd.read_csv('input/data/testing/testing.csv', header=None)\n",
    "idx = random.randint(0,len(validation)-5)\n",
    "req = validation.iloc[idx:idx+5].values\n",
    "\n",
    "# cut a sample with 5 lines from our dataset and then split the label from the features.\n",
    "X = req[:,1:].tolist()\n",
    "y = req[:,0].tolist()\n",
    "\n",
    "# call the local endpoint\n",
    "for features,label in zip(X,y):\n",
    "    prediction = float(iris_predictor.predict(features).decode('utf-8').strip())\n",
    "\n",
    "    # compare the results\n",
    "    print(\"RESULT: {} == {} ? {}\".format( label, prediction, label == prediction ) )"
   ]
  },
  {
   "cell_type": "code",
   "execution_count": 7,
   "metadata": {},
   "outputs": [
    {
     "name": "stdout",
     "output_type": "stream",
     "text": [
      "Gracefully stopping... (press Ctrl+C again to force)\n"
     ]
    }
   ],
   "source": [
    "iris.delete_endpoint()"
   ]
  },
  {
   "cell_type": "markdown",
   "metadata": {},
   "source": [
    "### That's it! :) Now you can go back to the previous Jupyter notebook and commit the assets to start building the Final Docker Image"
   ]
  }
 ],
 "metadata": {
  "kernelspec": {
   "display_name": "conda_python3",
   "language": "python",
   "name": "conda_python3"
  },
  "language_info": {
   "codemirror_mode": {
    "name": "ipython",
    "version": 3
   },
   "file_extension": ".py",
   "mimetype": "text/x-python",
   "name": "python",
   "nbconvert_exporter": "python",
   "pygments_lexer": "ipython3",
   "version": "3.6.10"
  }
 },
 "nbformat": 4,
 "nbformat_minor": 2
}
